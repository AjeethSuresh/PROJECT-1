{
  "nbformat": 4,
  "nbformat_minor": 0,
  "metadata": {
    "colab": {
      "provenance": [],
      "include_colab_link": true
    },
    "kernelspec": {
      "name": "python3",
      "display_name": "Python 3"
    },
    "language_info": {
      "name": "python"
    }
  },
  "cells": [
    {
      "cell_type": "markdown",
      "metadata": {
        "id": "view-in-github",
        "colab_type": "text"
      },
      "source": [
        "<a href=\"https://colab.research.google.com/github/AjeethSuresh/PROJECT-1/blob/main/fraud_detection_in_financial_transaction.ipynb\" target=\"_parent\"><img src=\"https://colab.research.google.com/assets/colab-badge.svg\" alt=\"Open In Colab\"/></a>"
      ]
    },
    {
      "cell_type": "code",
      "execution_count": null,
      "metadata": {
        "id": "ijigPlyiuZKJ"
      },
      "outputs": [],
      "source": [
        "import pandas as pd"
      ]
    },
    {
      "cell_type": "code",
      "source": [
        "data=pd.read_csv('/content/mydataset.csv')"
      ],
      "metadata": {
        "id": "7Gwtlpsu7iyL"
      },
      "execution_count": null,
      "outputs": []
    },
    {
      "cell_type": "code",
      "source": [
        "data.shape"
      ],
      "metadata": {
        "colab": {
          "base_uri": "https://localhost:8080/"
        },
        "id": "3_JVqA-y8Dg2",
        "outputId": "f8bc3ce1-4d6a-4600-e36f-dba55669b772"
      },
      "execution_count": null,
      "outputs": [
        {
          "output_type": "execute_result",
          "data": {
            "text/plain": [
              "(832020, 11)"
            ]
          },
          "metadata": {},
          "execution_count": 14
        }
      ]
    },
    {
      "cell_type": "code",
      "source": [
        "##data description\n",
        "print(data.head())\n",
        "print(data.tail())"
      ],
      "metadata": {
        "id": "oHWYLaVV8ExN"
      },
      "execution_count": null,
      "outputs": []
    },
    {
      "cell_type": "code",
      "source": [
        "##data description\n",
        "print(data.head())\n",
        "print(data.tail())"
      ],
      "metadata": {
        "id": "1Je6SJ6M8SGH"
      },
      "execution_count": null,
      "outputs": []
    },
    {
      "cell_type": "code",
      "source": [
        "#data reshaping\n",
        "print(data.shape)\n",
        "print(data['isFraud'].value_counts())\n",
        "features=data.drop(columns='isFraud')\n",
        "target= data['isFraud']\n",
        "print(features.shape)\n",
        "print(target.shape)\n",
        "final_data=pd.concat([features,target],axis=1)\n",
        "print(final_data.shape)\n",
        "legit=data[data.isFraud==0]\n",
        "fraud=data[data.isFraud==1]\n",
        "legit=legit.sample(8213).copy()\n",
        "print(legit.shape)\n",
        "print(fraud.shape)\n"
      ],
      "metadata": {
        "id": "46UhALMU-gpX"
      },
      "execution_count": null,
      "outputs": []
    },
    {
      "cell_type": "code",
      "source": [
        "#new data description\n",
        "print(data.head())\n",
        "print(data.tail())\n",
        "print(data.info())\n",
        "print(data.describe())\n",
        "print(data['isFraud'].value_counts())\n",
        "print(data.sample(10))"
      ],
      "metadata": {
        "id": "yAskD_dz8SlG"
      },
      "execution_count": null,
      "outputs": []
    },
    {
      "cell_type": "code",
      "source": [
        "#data merging\n",
        "data=pd.concat([legit,fraud],axis=0)\n",
        "print(data.shape)"
      ],
      "metadata": {
        "colab": {
          "base_uri": "https://localhost:8080/"
        },
        "id": "on0xWsYX-qYA",
        "outputId": "57aa5ea5-83d4-4c5d-f9b6-bf77531c8ee5"
      },
      "execution_count": null,
      "outputs": [
        {
          "output_type": "stream",
          "name": "stdout",
          "text": [
            "(8685, 11)\n"
          ]
        }
      ]
    },
    {
      "cell_type": "code",
      "source": [
        "import pandas as pd\n",
        "import matplotlib.pyplot as plt\n",
        "import numpy as np\n",
        "import seaborn as sns\n",
        "import plotly.express as px\n",
        "from dash import dcc, html, Input, Output\n",
        "from dash.dependencies import Input, Output\n",
        "import dash"
      ],
      "metadata": {
        "id": "0lHum-qh8b8G"
      },
      "execution_count": null,
      "outputs": []
    },
    {
      "cell_type": "code",
      "source": [
        "print(data.columns)\n",
        "data.head()"
      ],
      "metadata": {
        "id": "GPtuW_Dr8f4l"
      },
      "execution_count": null,
      "outputs": []
    },
    {
      "cell_type": "code",
      "source": [
        "plt.style.use('_mpl-gallery')\n",
        "fig,ax=plt.subplots(figsize=(4,3))\n",
        "ax.hist(data['step'], edgecolor=\"white\")\n",
        "plt.xlabel('frequency')\n",
        "plt.ylabel('step')\n",
        "plt.title(\"Histogram of numerical Column\")\n",
        "plt.show()"
      ],
      "metadata": {
        "id": "Loq1QNK78hg0"
      },
      "execution_count": null,
      "outputs": []
    },
    {
      "cell_type": "code",
      "source": [
        "plt.figure(figsize=(5, 3))\n",
        "plt.hist(data['step'], bins=20, color='orange', edgecolor='black')\n",
        "plt.title('Distribution of Transaction Durations')\n",
        "plt.xlabel('Transaction Duration (Seconds)')\n",
        "plt.ylabel('Frequency')\n",
        "plt.show()"
      ],
      "metadata": {
        "id": "3_HGYVaV8lGV"
      },
      "execution_count": null,
      "outputs": []
    },
    {
      "cell_type": "code",
      "source": [
        "plt.figure(figsize=(4,3))\n",
        "data['type'].value_counts().plot(kind='bar', color='skyblue')\n",
        "plt.title('Transaction Count by Transaction Type')\n",
        "plt.xlabel('Transaction Type')\n",
        "plt.ylabel('Count')\n",
        "plt.xticks(rotation=45)\n",
        "plt.show()\n"
      ],
      "metadata": {
        "id": "RQLPNjNX8mR9"
      },
      "execution_count": null,
      "outputs": []
    },
    {
      "cell_type": "code",
      "source": [
        "plt.style.use('_mpl-gallery')\n",
        "fig,ax=plt.subplots(figsize=(4,3))\n",
        "plt.xlabel('frequency')\n",
        "plt.ylabel('step')\n",
        "plt.title(\"Barchart of Category Column\")\n",
        "ax.bar(data[ 'newbalanceOrig'],data['oldbalanceOrg'],width=5,edgecolor='red')\n",
        "plt.show()"
      ],
      "metadata": {
        "id": "z7NDqvtJ8oSd"
      },
      "execution_count": null,
      "outputs": []
    },
    {
      "cell_type": "code",
      "source": [
        "plt.figure(figsize=(4,3))\n",
        "data.boxplot(column='amount', by='isFraud', figsize=(4,3))\n",
        "plt.title('Box Plot of Transaction Amounts by Fraud Status')\n",
        "plt.xlabel('Fraud Status')\n",
        "plt.ylabel('Transaction Amount')\n",
        "plt.suptitle('')\n",
        "plt.show()"
      ],
      "metadata": {
        "id": "weVEbKMx8rPn"
      },
      "execution_count": null,
      "outputs": []
    },
    {
      "cell_type": "code",
      "source": [
        "f, ax = plt.subplots(figsize=(4,3))\n",
        "sns.boxplot(\n",
        "    data,x='step',y='amount',\n",
        "    whis=[0, 100], width=.4, palette=\"vlag\"\n",
        ")\n",
        "sns.stripplot(data,x='step',y='amount',hue='amount', size=4, color=\".3\")\n",
        "ax.xaxis.grid(True)\n",
        "ax.set_xscale('log')\n",
        "ax.set(ylabel='')\n",
        "plt.title('Box for pair values')\n",
        "sns.despine(trim=True,left=True)"
      ],
      "metadata": {
        "id": "eVQCz9P98sjd"
      },
      "execution_count": null,
      "outputs": []
    },
    {
      "cell_type": "code",
      "source": [
        "columns_for_pairplot = ['amount', 'oldbalanceOrg', 'newbalanceOrig']\n",
        "sns.pairplot(data[columns_for_pairplot])\n",
        "plt.suptitle('Pair Plot of Transaction Data', y=1.02)\n",
        "plt.show()"
      ],
      "metadata": {
        "id": "4pCQq4c08uM9"
      },
      "execution_count": null,
      "outputs": []
    },
    {
      "cell_type": "code",
      "source": [
        "columns_for_pairplot = ['amount', 'oldbalanceDest', 'newbalanceDest']\n",
        "\n",
        "# Create the pair plot\n",
        "sns.pairplot(data[columns_for_pairplot])\n",
        "plt.suptitle('Pair Plot of Transaction Data', y=1.02)\n",
        "plt.show()"
      ],
      "metadata": {
        "id": "DHC7lKkw8uru"
      },
      "execution_count": null,
      "outputs": []
    },
    {
      "cell_type": "code",
      "source": [
        "fig = px.scatter(data, x='oldbalanceOrg', y='oldbalanceDest', color='amount', title='Interactive Scatter Plot of Transaction Data',\n",
        "                 labels={'amount':'Amount', 'Step': 'Steps'})\n",
        "\n",
        "# Update layout for better readability\n",
        "fig.update_layout(\n",
        "    xaxis_title='Old Balance Orgin',\n",
        "    yaxis_title='Old balance Destination',\n",
        "    legend_title='Fraud',\n",
        "    showlegend=True\n",
        ")\n",
        "\n",
        "# Show the plot\n",
        "fig.show()"
      ],
      "metadata": {
        "id": "cbBVb5pc8wu2"
      },
      "execution_count": null,
      "outputs": []
    },
    {
      "cell_type": "code",
      "source": [
        "fig = px.scatter(data, x='newbalanceOrig', y='newbalanceDest', color='amount', title='Interactive Scatter Plot of Transaction Data',\n",
        "                 labels={'amount':'Amount', 'Step': 'Steps'})\n",
        "\n",
        "# Update layout for better readability\n",
        "fig.update_layout(\n",
        "    xaxis_title='New Balance Orgin',\n",
        "    yaxis_title='New balance Destination',\n",
        "    legend_title='Fraud',\n",
        "    showlegend=True\n",
        ")\n",
        "\n",
        "# Show the plot\n",
        "fig.show()"
      ],
      "metadata": {
        "id": "_hhsIyNy8uuV"
      },
      "execution_count": null,
      "outputs": []
    },
    {
      "cell_type": "code",
      "source": [
        "app = dash.Dash(__name__)\n",
        "\n",
        "# Define the layout of the dashboard\n",
        "app.layout = html.Div([\n",
        "    html.H1(\"Interactive Dashboard for Transaction Data\"),\n",
        "    html.Div([\n",
        "        dcc.Graph(id='scatter-plot', figure={}),\n",
        "    ]),\n",
        "    html.Div([\n",
        "        dcc.Graph(id='bar-chart', figure={}),\n",
        "    ])\n",
        "])\n",
        "\n",
        "# Callback to update scatter plot based on user input\n",
        "@app.callback(\n",
        "    Output('scatter-plot', 'figure'),\n",
        "    [Input('bar-chart', 'hoverData')])\n",
        "def update_scatter_plot(hoverData):\n",
        "    if hoverData is None:\n",
        "        filtered_df = data\n",
        "    else:\n",
        "        merchant_category = hoverData['points'][0]['x']\n",
        "        filtered_df = data[data['type'] == merchant_category]\n",
        "\n",
        "    fig = px.scatter(filtered_df, x='oldbalanceOrg', y='newbalanceOrig', color='isFraud',\n",
        "                     size='amount', hover_data=['nameOrig', 'nameDest'],\n",
        "                     title='Interactive Scatter Plot of Transaction Data',\n",
        "                     labels={'oldbalanceOrg': 'Old Balance', 'newbalanceOrig': 'New Balance', 'amount': 'Amount'})\n",
        "    fig.update_layout(xaxis_title='Old Balance', yaxis_title='New Balance', showlegend=True)\n",
        "    return fig\n",
        "\n",
        "# Callback to update bar chart based on user input\n",
        "@app.callback(\n",
        "    Output('bar-chart', 'figure'),\n",
        "    [Input('scatter-plot', 'hoverData')])\n",
        "def update_bar_chart(hoverData):\n",
        "    if hoverData is None:\n",
        "        return {}\n",
        "    else:\n",
        "        merchant_category = hoverData['points'][0]['hovertext']\n",
        "        fraud_counts = data[data['type'] == merchant_category]['isFraud'].value_counts()\n",
        "\n",
        "        fig = px.bar(x=['Non-Fraudulent', 'Fraudulent'], y=fraud_counts.values,\n",
        "                     labels={'x': 'Fraud Status', 'y': 'Count'},\n",
        "                     color=['Non-Fraudulent', 'Fraudulent'], title='Fraudulent vs. Non-Fraudulent Transactions',\n",
        "                     color_discrete_map={'Non-Fraudulent': 'lightgreen', 'Fraudulent': 'salmon'})\n",
        "        return fig\n",
        "\n",
        "# Run the app\n",
        "if __name__ == '__main__':\n",
        "    app.run_server(debug=True)"
      ],
      "metadata": {
        "id": "TX7MGD4u8uw1"
      },
      "execution_count": null,
      "outputs": []
    },
    {
      "cell_type": "code",
      "source": [
        "\n",
        "app = dash.Dash(__name__)\n",
        "app.layout = html.Div([\n",
        "    html.H1(\"Interactive Dashboard for Financial Transactions\"),\n",
        "    html.Div([\n",
        "        dcc.Dropdown(\n",
        "            id='type-dropdown',\n",
        "            options=[{'label': i, 'value': i} for i in data['type'].unique()],\n",
        "            value='PAYMENT',\n",
        "            multi=True\n",
        "        ),\n",
        "    ]),\n",
        "    dcc.Graph(id='scatter-plot'),\n",
        "])\n",
        "\n",
        "@app.callback(\n",
        "    Output('scatter-plot', 'figure'),\n",
        "    [Input('type-dropdown', 'value')]\n",
        ")\n",
        "def update_scatter_plot(selected_types):\n",
        "    filtered_data = data[data['type'].isin(selected_types)]\n",
        "    fig = px.scatter(filtered_data, x='oldbalanceOrg', y='newbalanceOrig', color='isFraud',\n",
        "                     hover_data=['type', 'amount'], title='Transaction Details',\n",
        "                     labels={'oldbalanceOrg': 'Old Balance', 'newbalanceOrig': 'New Balance'})\n",
        "\n",
        "    fig.update_layout(xaxis_title='Old Balance', yaxis_title='New Balance', showlegend=True)\n",
        "    return fig\n",
        "\n",
        "# Run the app\n",
        "if __name__ == '__main__':\n",
        "    app.run_server(debug=True)"
      ],
      "metadata": {
        "id": "5xrp_q9d8uzV"
      },
      "execution_count": null,
      "outputs": []
    },
    {
      "cell_type": "code",
      "source": [
        "\n",
        "from sklearn.model_selection import train_test_split\n",
        "%matplotlib inline"
      ],
      "metadata": {
        "id": "FECX4-WV8u1M"
      },
      "execution_count": null,
      "outputs": []
    },
    {
      "cell_type": "code",
      "source": [
        "type_new = pd.get_dummies(data['type'], drop_first=True)\n",
        "data_new = pd.concat([data, type_new], axis=1)"
      ],
      "metadata": {
        "id": "Q95WCHQW89b3"
      },
      "execution_count": null,
      "outputs": []
    },
    {
      "cell_type": "code",
      "source": [
        "X = data_new.drop(['isFraud', 'type', 'nameOrig', 'nameDest'], axis=1)\n",
        "y = data_new['isFraud']\n",
        "X.shape, y.shape\n"
      ],
      "metadata": {
        "id": "GXbbuBHH89ee"
      },
      "execution_count": null,
      "outputs": []
    },
    {
      "cell_type": "code",
      "source": [
        "X_train, X_test, y_train, y_test = train_test_split(\n",
        "\tX, y, test_size=0.3, random_state=42)"
      ],
      "metadata": {
        "id": "qyu_MYaC9BD8"
      },
      "execution_count": null,
      "outputs": []
    },
    {
      "cell_type": "code",
      "source": [
        "from xgboost import XGBClassifier\n",
        "from sklearn.metrics import roc_auc_score as ras\n",
        "from sklearn.linear_model import LogisticRegression\n",
        "from sklearn.svm import SVC\n",
        "from sklearn.ensemble import RandomForestClassifier"
      ],
      "metadata": {
        "id": "fepy23Yo89hN"
      },
      "execution_count": null,
      "outputs": []
    },
    {
      "cell_type": "code",
      "source": [
        "\n",
        "\n",
        "models = [LogisticRegression(), XGBClassifier(),\n",
        "\t\tSVC(kernel='rbf', probability=True),\n",
        "\t\tRandomForestClassifier(n_estimators=7,\n",
        "\t\t\t\t\t\t\t\tcriterion='entropy',\n",
        "\t\t\t\t\t\t\t\trandom_state=7)]\n",
        "\n",
        "for i in range(len(models)):\n",
        "\tmodels[i].fit(X_train, y_train)\n",
        "\tprint(f'{models[i]} : ')\n",
        "\n",
        "\ttrain_preds = models[i].predict_proba(X_train)[:, 1]\n",
        "\tprint('Training Accuracy : ', ras(y_train, train_preds))\n",
        "\n",
        "\ty_preds = models[i].predict_proba(X_test)[:, 1]\n",
        "\tprint('Validation Accuracy : ', ras(y_test, y_preds))\n",
        "\tprint()"
      ],
      "metadata": {
        "id": "BI-T7wqp89jN"
      },
      "execution_count": null,
      "outputs": []
    },
    {
      "cell_type": "code",
      "source": [
        "import numpy as np\n",
        "from sklearn.metrics import roc_auc_score as ras, accuracy_score, precision_recall_curve, auc, average_precision_score\n",
        "from sklearn.metrics import ConfusionMatrixDisplay\n",
        "from sklearn.metrics.pairwise import pairwise_distances\n",
        "\n",
        "# Convert y_test to numpy array if it's not already\n",
        "y_test = np.array(y_test)\n",
        "\n",
        "# Fit the models\n",
        "for i in range(len(models)):\n",
        "    models[i].fit(X_train, y_train)\n",
        "    print(f'{models[i]} : ')\n",
        "\n",
        "    # Training predictions\n",
        "    train_preds = models[i].predict_proba(X_train)[:, 1]\n",
        "    print('Training ROC-AUC : ', ras(y_train, train_preds))\n",
        "    print('Training Accuracy : ', accuracy_score(y_train, models[i].predict(X_train)))\n",
        "\n",
        "    # Validation predictions\n",
        "    y_preds = models[i].predict_proba(X_test)[:, 1]\n",
        "    print('Validation ROC-AUC : ', ras(y_test, y_preds))\n",
        "    print('Validation Accuracy : ', accuracy_score(y_test, models[i].predict(X_test)))\n",
        "\n",
        "    # Ranking metrics\n",
        "    precision, recall, _ = precision_recall_curve(y_test, y_preds)\n",
        "    pr_auc = auc(recall, precision)\n",
        "    avg_precision = average_precision_score(y_test, y_preds)\n",
        "    print('Validation Precision-Recall AUC: ', pr_auc)\n",
        "    print('Validation Average Precision Score: ', avg_precision)\n",
        "\n",
        "    # Diversity metrics\n",
        "    if i > 0:\n",
        "        diversity = 1 - np.mean(pairwise_distances(preds_stack, metric='correlation'))\n",
        "        print('Diversity (Correlation-based): ', diversity)\n",
        "\n",
        "    # Stack predictions for diversity calculation\n",
        "    if i == 0:\n",
        "        preds_stack = y_preds.reshape(-1, 1)\n",
        "    else:\n",
        "        preds_stack = np.hstack((preds_stack, y_preds.reshape(-1, 1)))\n",
        "\n",
        "    sorted_indices = np.argsort(y_preds)[::-1]\n",
        "    sorted_true_labels = y_test[sorted_indices]\n",
        "    avg_rank_true_positives = np.mean(np.where(sorted_true_labels == 1)[0])\n",
        "    print('Average Rank of True Positives: ', avg_rank_true_positives)\n",
        "\n",
        "    # Confusion matrix\n",
        "    disp = ConfusionMatrixDisplay.from_estimator(models[i], X_test, y_test)\n",
        "    disp.plot()\n",
        "    plt.show()\n",
        "\n",
        "    print()\n"
      ],
      "metadata": {
        "id": "R5qCqlBF89l8"
      },
      "execution_count": null,
      "outputs": []
    }
  ]
}